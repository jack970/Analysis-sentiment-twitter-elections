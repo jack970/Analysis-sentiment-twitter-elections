{
 "cells": [
  {
   "cell_type": "markdown",
   "id": "7fe9bf96",
   "metadata": {},
   "source": [
    "# Análise de sentimentos no Twitter - Eleições 2022\n",
    "\n",
    "Este código, desenvolvido em Python, extrai os 100 tweets mais recentes com a API do Twitter pelos temas: \"#Eleições2022 -#Lula\". \n",
    "\n",
    "Também, realiza tarefas como: \n",
    "* Agrupar todos em dataframes\n",
    "* Gerar uma imagem com as palavras mais presentes nos tweets (word cloud)\n",
    "* Traduzir os tweets para inglês\n",
    "* Adicionar as colunas subjetividade, polaridade no dataframe\n",
    "* Fazer a análise do texto em base da polaridade e classificá-lo como sendo: Positivo, Negativo ou Neutro na coluna de análise do Dataframe.\n",
    "* Mostrar a polaridade e subjetividade num gráfico de dispersão\n",
    "* Mostrar quantidade de tweets de acordo com o seu sentimento em gráfico de barras"
   ]
  },
  {
   "cell_type": "code",
   "execution_count": null,
   "id": "2b76f154",
   "metadata": {},
   "outputs": [],
   "source": [
    "# installa dependencias\n",
    "\n",
    "# !pip install tweepy --quiet\n",
    "# !pip install pandas --quiet\n",
    "# !pip install wordcloud\n",
    "# !pip install --user -U nltk"
   ]
  },
  {
   "cell_type": "code",
   "execution_count": null,
   "id": "7af88606",
   "metadata": {},
   "outputs": [],
   "source": [
    "# importa módulos\n",
    "import tweepy\n",
    "import pandas as pd\n",
    "import re\n",
    "import nltk\n",
    "import requests\n",
    "import matplotlib.pyplot as plt\n",
    "from textblob import TextBlob\n",
    "from wordcloud import WordCloud, STOPWORDS\n",
    "plt.style.use('fivethirtyeight')\n",
    "nltk.download('stopwords')"
   ]
  },
  {
   "cell_type": "code",
   "execution_count": null,
   "id": "4d21f11a",
   "metadata": {},
   "outputs": [],
   "source": [
    "# lê as credenciais de login do Twitter\n",
    "with open(\"login.txt\", \"r\") as file:\n",
    "    consumer_key=file.readline().strip(\"\\n\")\n",
    "    consumer_secret=file.readline().strip(\"\\n\")\n",
    "    bearer_token=file.readline().strip(\"\\n\")\n",
    "    access_token=file.readline().strip(\"\\n\")\n",
    "    access_token_secret=file.readline().strip(\"\\n\")"
   ]
  },
  {
   "cell_type": "code",
   "execution_count": null,
   "id": "9ce8e091",
   "metadata": {},
   "outputs": [],
   "source": [
    "# faz autenticação\n",
    "client = tweepy.Client(\n",
    "    bearer_token\n",
    ")"
   ]
  },
  {
   "cell_type": "code",
   "execution_count": null,
   "id": "bb0b9e68",
   "metadata": {},
   "outputs": [],
   "source": [
    "# pesquisa por tweets por palavra-chave: \"#Eleições2022 -#Lula\"\n",
    "query = \"#Eleições2022 -#Lula\"\n",
    "response = client.search_recent_tweets(query, max_results=100)\n",
    "tweets = response.data\n",
    "\n",
    "for tweet in tweets:\n",
    "    print(tweet.text)"
   ]
  },
  {
   "cell_type": "code",
   "execution_count": null,
   "id": "1bb7283f",
   "metadata": {
    "scrolled": true
   },
   "outputs": [],
   "source": [
    "# Agrupa tweets por dataframe\n",
    "tweets_list = [[tweet.text] for tweet in tweets]\n",
    "df = pd.DataFrame(tweets_list, columns=[\"Texto\"])\n",
    "pd.options.display.max_colwidth = 130\n",
    "df.head()"
   ]
  },
  {
   "cell_type": "code",
   "execution_count": null,
   "id": "49faa044",
   "metadata": {},
   "outputs": [],
   "source": [
    "# Limpando o texto\n",
    "def cleanText(text):\n",
    "    text = re.sub(r'@[A-Za-z0-9]+', '', text) # removed mentions\n",
    "    text = re.sub(r'#', '', text) # remove the symbol '#'\n",
    "    text = re.sub(r'RT[\\s]+', '', text)\n",
    "    text = re.sub(r'https?:\\/\\/\\S+', '', text) # remove the hyper link\n",
    "    return text\n",
    "\n",
    "# aplicando a função no DataFrame\n",
    "df['Texto'] = df['Texto'].apply(cleanText)\n",
    "\n",
    "# mostra o Dataframe\n",
    "df"
   ]
  },
  {
   "cell_type": "code",
   "execution_count": null,
   "id": "9789cf02",
   "metadata": {},
   "outputs": [],
   "source": [
    "# Gera wordcloud dos tweets\n",
    "\n",
    "# Agrupando tudo em uma única string com espaços\n",
    "string = ''.join([twts for twts in df['Texto']])\n",
    "\n",
    "# Ignora classes de palavras\n",
    "stopwords = set(STOPWORDS)\n",
    "stopwords_nltk = nltk.corpus.stopwords.words('portuguese') \n",
    "stopwords_manual = [\"quint\", \"anda\", \"vídeo\", \"amg\", \"onde\", \"meio\", \"con\", \"todo\", \"apoio\", \"chama\", \"compartilhado\", \"cargo\", \"TikTok\", \"Eleicoes2022\", \"hora\", \"insta\", \"rede\", \"ver\", \"conteúdo\", \"perfil\", \"muito\", \"Quando\", \"derrotar\", \"público\",\"eleições\",\"Eleições2022A\", \"prestação\", \"tamb\", \"turno\", \"conta\", \"la\", \"declara\", \"livre\", \"Porto\", \"Alegre\",\"AGORA\", \"single\", \"anormal\", \"votar\", \"vota\",\"aconteceu\", \"atualizada\", \"algo\", \"Jr\", \"acontece\", \"terá\", \"_Mordacious_\", \"passe\", \"pressão\", \"Já\", \"detalhes\", \"THREAD\", \"minha\", \"TV\", \"maior\", \"mesmo\", \"Atenção\", \"desde\", \"há\", \"número\", \"presidente\", \"ENQUETE\", \"mostra\",\"será\", \"queremos\",\"vocês\", \"conferir\",\"meu\", \"y\", \"pela\", \"seus\", \"comentamos\", \"você\", \"PREDICTION\", \"como\", \"nosso\", \"tá\", \"vão\", \"dia\", \"instituto\", \"fez\", \"Eleições2022\", \"RT\", \"por\", \"de\", \"f\", \"w\", \"pelo\", \"Brazilian\", \"dar\", \"pois\", \"nesta\", \"em\", \"um\", \"da\", \"ser\", \"aqui\", \"vou\", \"dos\", \"quem\", \"tem\", \"NEW\", \"do\", \"não\", \"election\", \"t\", \"foi\", \"para\", \"made\", \"https\", \"ahead\", \"Na\", \"S\", \"ao\", \"que\", \"co\", \"coming\", \"ad\", \"O\", \"é\", \"Mais\", \"se\", \"e\", \"das\", \"depois\", \"dessa\", \"ontem\", \"uma\", \"tira\", \"site\", \"diz\", \"tempo\", \"deveria\", \"certo\", \"até\", \"dúvida\", \"importo\", \"qual\", \"Só\", \"sabendo\", \"estão\", \"gesto\", \"nos\", \"ocorreu\", \"Fiquei\", \"rimou\", \"chorar\", \"essa\", \"pra\", \"os\", \"qual\", \"ponto\", \"escolher\", \"mas\", \"vamos\", \"AR\", \"pode\", \"junto\", \"demais\", \"chamado\", \"parecer\", \"ainda\", \"dias\", \"nas\", \"sobre\", \"está\", \"faz\", \"Leia\", \"pagou\", \"gente\", \"genérico\", \"durante\", \"apenas\", \"São\", \"à\", \"às\", \"entre\", \"vai\", \"busco\", \"fazer\", \"eu\", \"todos\", \"seu\", \"primeiro\"]\n",
    "stopwords.update(stopwords_nltk + stopwords_manual)\n",
    "\n",
    "\n",
    "# Cria uma imagem com as palavras mais presentes no texto\n",
    "wordcloud = WordCloud(width=1600, stopwords=stopwords, height=800, max_font_size=200, max_words=30, collocations=False, background_color='black').generate(string)\n",
    "plt.figure(figsize=(40,30))\n",
    "plt.imshow(wordcloud, interpolation=\"bilinear\")\n",
    "plt.axis(\"off\")\n",
    "\n",
    "# realiza download do plot\n",
    "plt.savefig(\"Twitter-WordCloud.png\")\n",
    "\n",
    "plt.show()"
   ]
  },
  {
   "cell_type": "code",
   "execution_count": null,
   "id": "a10bbec5",
   "metadata": {},
   "outputs": [],
   "source": [
    "# Realiza tradução dos textos em 'pt-BR' para 'en'\n",
    "# Para que a classe TextBlob possa fazer a análise\n",
    "# Obs: a tradução demora, já que realiza uma requisição por vez\n",
    "def translate_to_en(text):\n",
    "    url = f\"http://translate.google.com/m?tl=pt-br&sl=en&q={text}\"\n",
    "    expr = r'(?s)class=\"(?:t0|result-container)\">(.*?)<'\n",
    "    content = requests.get(url).content\n",
    "    data = content.decode('utf-8')\n",
    "    return re.findall(expr, data)[0]\n",
    "    \n",
    "# aplica a função no dataFrame\n",
    "df['Texto'] = df['Texto'].apply(translate_to_en)\n",
    "\n",
    "# mostra o dataframe\n",
    "df"
   ]
  },
  {
   "cell_type": "code",
   "execution_count": null,
   "id": "9b3c1ed9",
   "metadata": {},
   "outputs": [],
   "source": [
    "# pega subjectividade\n",
    "def getSubjectivity(text):\n",
    "    return TextBlob(text).sentiment.subjectivity\n",
    "\n",
    "# pega a polaridade\n",
    "def getPolarity(text):\n",
    "    return TextBlob(text).sentiment.polarity\n",
    "\n",
    "# cria uma função para computar se a análise é negativa, positiva ou neutra\n",
    "def getAnalysis(score):\n",
    "    if score < 0:\n",
    "        return \"Negativo\"\n",
    "    elif score == 0:\n",
    "        return \"Neutro\"\n",
    "    else:\n",
    "        return \"Positivo\"\n",
    "\n",
    "\n",
    "# cria colunas de subjetividade, polaridade e análise no dataframe\n",
    "df['Subjetividade'] = df['Texto'].apply(getSubjectivity)\n",
    "df['Polaridade'] = df['Texto'].apply(getPolarity)\n",
    "df[\"Análise\"] = df['Polaridade'].apply(getAnalysis)\n",
    "\n",
    "# mostra dataframe\n",
    "df"
   ]
  },
  {
   "cell_type": "code",
   "execution_count": null,
   "id": "dfa1280b",
   "metadata": {
    "scrolled": true
   },
   "outputs": [],
   "source": [
    "# mostra todos os tweets potencialmente positivos\n",
    "sortedDF = df.sort_values(by=['Polaridade'])\n",
    "\n",
    "for i in range(sortedDF.shape[0]):\n",
    "    if sortedDF[\"Análise\"][i] == \"Positivo\":\n",
    "        print(f\"{i + 1}) {sortedDF['Texto'][i]}\\n\")"
   ]
  },
  {
   "cell_type": "code",
   "execution_count": null,
   "id": "cf51487f",
   "metadata": {
    "scrolled": true
   },
   "outputs": [],
   "source": [
    "# mostra todos os tweets potencialmente negativos\n",
    "sortedDF = df.sort_values(by=['Polaridade'], ascending='False')\n",
    "\n",
    "for i in range(sortedDF.shape[0]):\n",
    "    if sortedDF[\"Análise\"][i] == \"Negativo\":\n",
    "        print(f\"{i + 1}) {sortedDF['Texto'][i]}\\n\")"
   ]
  },
  {
   "cell_type": "code",
   "execution_count": null,
   "id": "0e9ff58c",
   "metadata": {},
   "outputs": [],
   "source": [
    "# monta gráfico de dispersão mostrando a polaridade e subjetividade\n",
    "plt.figure(figsize=(8, 6))\n",
    "for i in range(df.shape[0]):\n",
    "    plt.scatter(df['Polaridade'][i], df['Subjetividade'][i], color='Blue')\n",
    "\n",
    "plt.title(\"Subjetividade X Polaridade\")\n",
    "plt.xlabel(\"Polaridade\")\n",
    "plt.ylabel(\"Subjetividade\")\n",
    "plt.show()"
   ]
  },
  {
   "cell_type": "code",
   "execution_count": null,
   "id": "bff9fd05",
   "metadata": {
    "scrolled": true
   },
   "outputs": [],
   "source": [
    "# Pega porcentagem dos tweets pelo sentimento\n",
    "def sentiment_percent(sentiment):\n",
    "    ptweets = df[df.Análise == sentiment]\n",
    "    ptweets = ptweets[\"Texto\"]\n",
    "\n",
    "    return round(ptweets.shape[0] / df.shape[0] * 100, 1) \n",
    "\n",
    "text = f\"\"\"\\\n",
    "tweets positivos: {sentiment_percent(\"Positivo\")}%\n",
    "tweets negativos: {sentiment_percent(\"Negativo\")}%\n",
    "tweets neutros: {sentiment_percent(\"Neutro\")}%\\\n",
    "\"\"\"\n",
    "print(text)"
   ]
  },
  {
   "cell_type": "code",
   "execution_count": null,
   "id": "2752dff5",
   "metadata": {},
   "outputs": [],
   "source": [
    "# traça e visualiza o gráfico de barras da quantidade de tweets de acordo com o seu sentimento\n",
    "\n",
    "plt.title(\"Análise de sentimentos - Eleições 2022\")\n",
    "plt.xlabel(\"Sentimentos\")\n",
    "plt.ylabel(\"Quantidade\")\n",
    "df[\"Análise\"].value_counts().plot(kind='bar')\n",
    "plt.show()"
   ]
  }
 ],
 "metadata": {
  "kernelspec": {
   "display_name": "twitter-api",
   "language": "python",
   "name": "twitter-api"
  },
  "language_info": {
   "codemirror_mode": {
    "name": "ipython",
    "version": 3
   },
   "file_extension": ".py",
   "mimetype": "text/x-python",
   "name": "python",
   "nbconvert_exporter": "python",
   "pygments_lexer": "ipython3",
   "version": "3.7.0"
  }
 },
 "nbformat": 4,
 "nbformat_minor": 5
}
